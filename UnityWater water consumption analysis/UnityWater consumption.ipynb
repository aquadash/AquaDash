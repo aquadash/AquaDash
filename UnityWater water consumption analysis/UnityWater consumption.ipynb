{
 "cells": [
  {
   "cell_type": "code",
   "execution_count": 43,
   "id": "5b745a17",
   "metadata": {},
   "outputs": [],
   "source": [
    "import numpy as np\n",
    "import pandas as pd\n",
    "import matplotlib.pyplot as plt\n",
    "import csv\n",
    "import os\n",
    "#import pyspark\n",
    "#from pyspark.sql import SparkSession"
   ]
  },
  {
   "cell_type": "code",
   "execution_count": 44,
   "id": "6412f079",
   "metadata": {},
   "outputs": [],
   "source": [
    "#path = 'Digital Meter Data  - May 2022\\Digital Meter Data  - May01.csv'\n",
    "#d = pd.read_csv(path, ',')"
   ]
  },
  {
   "cell_type": "code",
   "execution_count": 45,
   "id": "9a5fc141",
   "metadata": {},
   "outputs": [],
   "source": [
    "#d.sort_values(by=['ManagedObjectid','time'], ascending=True)\n",
    "#d[\"ManagedObjectid\"].unique()\n",
    "#test[test[\"typeM\"]=='/10266/0']"
   ]
  },
  {
   "cell_type": "code",
   "execution_count": 37,
   "id": "dd1ff3c1",
   "metadata": {},
   "outputs": [],
   "source": [
    "def get_usage(df, oid, start_of_week):\n",
    "    df_id = df[df[\"ManagedObjectid\"]==oid].sort_values(by=['time'], ascending=start_of_week)\n",
    "    return list(df_id[df_id[\"typeM\"]==\"Pulse1_Total\"][\"Value\"])[0]\n",
    "    \n",
    "def get_usage_integrated(df):\n",
    "    df_id = df[df[\"ManagedObjectid\"]==oid]\n",
    "    return list(df_id[df_id[\"typeM\"]=='/10266/0'][\"Value\"])[0]*1000"
   ]
  },
  {
   "cell_type": "code",
   "execution_count": 39,
   "id": "71b463c3",
   "metadata": {},
   "outputs": [
    {
     "name": "stderr",
     "output_type": "stream",
     "text": [
      "C:\\Users\\Olga\\AppData\\Roaming\\Python\\Python310\\site-packages\\IPython\\core\\interactiveshell.py:3397: FutureWarning: In a future version of pandas all arguments of read_csv except for the argument 'filepath_or_buffer' will be keyword-only.\n",
      "  exec(code_obj, self.user_global_ns, self.user_ns)\n",
      "C:\\Users\\Olga\\AppData\\Roaming\\Python\\Python310\\site-packages\\IPython\\core\\interactiveshell.py:3397: FutureWarning: In a future version of pandas all arguments of read_csv except for the argument 'filepath_or_buffer' will be keyword-only.\n",
      "  exec(code_obj, self.user_global_ns, self.user_ns)\n",
      "C:\\Users\\Olga\\AppData\\Roaming\\Python\\Python310\\site-packages\\IPython\\core\\interactiveshell.py:3397: FutureWarning: In a future version of pandas all arguments of read_csv except for the argument 'filepath_or_buffer' will be keyword-only.\n",
      "  exec(code_obj, self.user_global_ns, self.user_ns)\n",
      "C:\\Users\\Olga\\AppData\\Roaming\\Python\\Python310\\site-packages\\IPython\\core\\interactiveshell.py:3397: FutureWarning: In a future version of pandas all arguments of read_csv except for the argument 'filepath_or_buffer' will be keyword-only.\n",
      "  exec(code_obj, self.user_global_ns, self.user_ns)\n",
      "C:\\Users\\Olga\\AppData\\Roaming\\Python\\Python310\\site-packages\\IPython\\core\\interactiveshell.py:3397: FutureWarning: In a future version of pandas all arguments of read_csv except for the argument 'filepath_or_buffer' will be keyword-only.\n",
      "  exec(code_obj, self.user_global_ns, self.user_ns)\n",
      "C:\\Users\\Olga\\AppData\\Roaming\\Python\\Python310\\site-packages\\IPython\\core\\interactiveshell.py:3397: FutureWarning: In a future version of pandas all arguments of read_csv except for the argument 'filepath_or_buffer' will be keyword-only.\n",
      "  exec(code_obj, self.user_global_ns, self.user_ns)\n",
      "C:\\Users\\Olga\\AppData\\Roaming\\Python\\Python310\\site-packages\\IPython\\core\\interactiveshell.py:3397: FutureWarning: In a future version of pandas all arguments of read_csv except for the argument 'filepath_or_buffer' will be keyword-only.\n",
      "  exec(code_obj, self.user_global_ns, self.user_ns)\n",
      "C:\\Users\\Olga\\AppData\\Roaming\\Python\\Python310\\site-packages\\IPython\\core\\interactiveshell.py:3397: FutureWarning: In a future version of pandas all arguments of read_csv except for the argument 'filepath_or_buffer' will be keyword-only.\n",
      "  exec(code_obj, self.user_global_ns, self.user_ns)\n",
      "C:\\Users\\Olga\\AppData\\Roaming\\Python\\Python310\\site-packages\\IPython\\core\\interactiveshell.py:3397: FutureWarning: In a future version of pandas all arguments of read_csv except for the argument 'filepath_or_buffer' will be keyword-only.\n",
      "  exec(code_obj, self.user_global_ns, self.user_ns)\n",
      "C:\\Users\\Olga\\AppData\\Roaming\\Python\\Python310\\site-packages\\IPython\\core\\interactiveshell.py:3397: FutureWarning: In a future version of pandas all arguments of read_csv except for the argument 'filepath_or_buffer' will be keyword-only.\n",
      "  exec(code_obj, self.user_global_ns, self.user_ns)\n",
      "C:\\Users\\Olga\\AppData\\Roaming\\Python\\Python310\\site-packages\\IPython\\core\\interactiveshell.py:3397: FutureWarning: In a future version of pandas all arguments of read_csv except for the argument 'filepath_or_buffer' will be keyword-only.\n",
      "  exec(code_obj, self.user_global_ns, self.user_ns)\n",
      "C:\\Users\\Olga\\AppData\\Roaming\\Python\\Python310\\site-packages\\IPython\\core\\interactiveshell.py:3397: FutureWarning: In a future version of pandas all arguments of read_csv except for the argument 'filepath_or_buffer' will be keyword-only.\n",
      "  exec(code_obj, self.user_global_ns, self.user_ns)\n",
      "C:\\Users\\Olga\\AppData\\Roaming\\Python\\Python310\\site-packages\\IPython\\core\\interactiveshell.py:3397: FutureWarning: In a future version of pandas all arguments of read_csv except for the argument 'filepath_or_buffer' will be keyword-only.\n",
      "  exec(code_obj, self.user_global_ns, self.user_ns)\n",
      "C:\\Users\\Olga\\AppData\\Roaming\\Python\\Python310\\site-packages\\IPython\\core\\interactiveshell.py:3397: FutureWarning: In a future version of pandas all arguments of read_csv except for the argument 'filepath_or_buffer' will be keyword-only.\n",
      "  exec(code_obj, self.user_global_ns, self.user_ns)\n",
      "C:\\Users\\Olga\\AppData\\Roaming\\Python\\Python310\\site-packages\\IPython\\core\\interactiveshell.py:3397: FutureWarning: In a future version of pandas all arguments of read_csv except for the argument 'filepath_or_buffer' will be keyword-only.\n",
      "  exec(code_obj, self.user_global_ns, self.user_ns)\n",
      "C:\\Users\\Olga\\AppData\\Roaming\\Python\\Python310\\site-packages\\IPython\\core\\interactiveshell.py:3397: FutureWarning: In a future version of pandas all arguments of read_csv except for the argument 'filepath_or_buffer' will be keyword-only.\n",
      "  exec(code_obj, self.user_global_ns, self.user_ns)\n",
      "C:\\Users\\Olga\\AppData\\Roaming\\Python\\Python310\\site-packages\\IPython\\core\\interactiveshell.py:3397: FutureWarning: In a future version of pandas all arguments of read_csv except for the argument 'filepath_or_buffer' will be keyword-only.\n",
      "  exec(code_obj, self.user_global_ns, self.user_ns)\n",
      "C:\\Users\\Olga\\AppData\\Roaming\\Python\\Python310\\site-packages\\IPython\\core\\interactiveshell.py:3397: FutureWarning: In a future version of pandas all arguments of read_csv except for the argument 'filepath_or_buffer' will be keyword-only.\n",
      "  exec(code_obj, self.user_global_ns, self.user_ns)\n",
      "C:\\Users\\Olga\\AppData\\Roaming\\Python\\Python310\\site-packages\\IPython\\core\\interactiveshell.py:3397: FutureWarning: In a future version of pandas all arguments of read_csv except for the argument 'filepath_or_buffer' will be keyword-only.\n",
      "  exec(code_obj, self.user_global_ns, self.user_ns)\n",
      "C:\\Users\\Olga\\AppData\\Roaming\\Python\\Python310\\site-packages\\IPython\\core\\interactiveshell.py:3397: FutureWarning: In a future version of pandas all arguments of read_csv except for the argument 'filepath_or_buffer' will be keyword-only.\n",
      "  exec(code_obj, self.user_global_ns, self.user_ns)\n",
      "C:\\Users\\Olga\\AppData\\Roaming\\Python\\Python310\\site-packages\\IPython\\core\\interactiveshell.py:3397: FutureWarning: In a future version of pandas all arguments of read_csv except for the argument 'filepath_or_buffer' will be keyword-only.\n",
      "  exec(code_obj, self.user_global_ns, self.user_ns)\n",
      "C:\\Users\\Olga\\AppData\\Roaming\\Python\\Python310\\site-packages\\IPython\\core\\interactiveshell.py:3397: FutureWarning: In a future version of pandas all arguments of read_csv except for the argument 'filepath_or_buffer' will be keyword-only.\n",
      "  exec(code_obj, self.user_global_ns, self.user_ns)\n",
      "C:\\Users\\Olga\\AppData\\Roaming\\Python\\Python310\\site-packages\\IPython\\core\\interactiveshell.py:3397: FutureWarning: In a future version of pandas all arguments of read_csv except for the argument 'filepath_or_buffer' will be keyword-only.\n",
      "  exec(code_obj, self.user_global_ns, self.user_ns)\n"
     ]
    }
   ],
   "source": [
    "header = [ \"Month\", \"Week\", \"ManagedObjectid\", \"Usage\", \"MeterType\"]\n",
    "f = open('weekly_water_usage.csv', 'w')\n",
    "writer = csv.writer(f)\n",
    "writer.writerow(header)\n",
    "\n",
    "months= [\"May\", \"June\", \"July\"]\n",
    "\n",
    "for month in months:\n",
    "    month_path = 'Digital Meter Data  - '+month+' 2022\\\\'\n",
    "    day_files = os.listdir(month_path)\n",
    "    weeks = [day_files[0], day_files[6], day_files[7], day_files[13], day_files[14], \n",
    "             day_files[20], day_files[21], day_files[27]]\n",
    "    '''weeks =  [\"  - \"+month+\"01\", \"  - \"+month+\"07\", \n",
    "              \"  - \"+month+\"08\", \"  - \"+month+\"14\", \n",
    "              \"  - \"+month+\"15\", \"  - \"+month+\"21\",\n",
    "              \"  - \"+month+\"22\", \"  - \"+month+\"28\"]'''\n",
    "    week_number = 1\n",
    "   # usage_per_week = get_usage_per_week(month_path, weeks)\n",
    "    for i in range(0, len(weeks), 2):\n",
    "        #print(week_number)\n",
    "        week_start = month_path+weeks[i]\n",
    "        week_end = month_path+weeks[i+1]\n",
    "\n",
    "        df_week_start = pd.read_csv(week_start, ',')\n",
    "        df_week_end = pd.read_csv(week_end, ',')\n",
    "        \n",
    "        #print(df_week_start)\n",
    "        object_ids = df_week_start[\"ManagedObjectid\"].unique()    \n",
    "        for oid in object_ids:\n",
    "            # digital meter\n",
    "            if('Pulse1_Total' in df_week_start[df_week_start[\"ManagedObjectid\"]==oid][\"typeM\"].unique()):\n",
    "                meter_type = \"Digital\"\n",
    "                try:\n",
    "                    usage_start_of_week = get_usage(df_week_start, oid, True)\n",
    "                    usage_end_of_week = get_usage(df_week_end, oid, False)\n",
    "                    usage = usage_end_of_week-usage_start_of_week\n",
    "                    #print(usage_start_of_week)\n",
    "                except:\n",
    "                    usage = -1\n",
    "            # integrated meter\n",
    "            elif ('/10266/0' in df_week_start[df_week_start[\"ManagedObjectid\"]==oid][\"typeM\"].unique()):\n",
    "                meter_type = \"Integrated\"\n",
    "                try:\n",
    "                    usage_start_of_week= get_usage_integrated(df_week_start)\n",
    "                    usage_end_of_week = get_usage_integrated(df_week_end)\n",
    "                    usage = usage_end_of_week-usage_start_of_week\n",
    "                   # print(usage_start_of_week)\n",
    "                except:\n",
    "                    usage = -1  \n",
    "            writer.writerow([month, week_number, oid, usage, meter_type])\n",
    "        week_number +=1   \n",
    "        \n",
    "f.close()  "
   ]
  },
  {
   "cell_type": "code",
   "execution_count": 42,
   "id": "bfd61bb5",
   "metadata": {},
   "outputs": [
    {
     "name": "stderr",
     "output_type": "stream",
     "text": [
      "C:\\Users\\Olga\\AppData\\Roaming\\Python\\Python310\\site-packages\\IPython\\core\\interactiveshell.py:3397: FutureWarning: In a future version of pandas all arguments of read_csv except for the argument 'filepath_or_buffer' will be keyword-only.\n",
      "  exec(code_obj, self.user_global_ns, self.user_ns)\n"
     ]
    }
   ],
   "source": [
    "df_processed = pd.read_csv(\"weekly_water_usage.csv\", ',')"
   ]
  }
 ],
 "metadata": {
  "kernelspec": {
   "display_name": "Python 3 (ipykernel)",
   "language": "python",
   "name": "python3"
  },
  "language_info": {
   "codemirror_mode": {
    "name": "ipython",
    "version": 3
   },
   "file_extension": ".py",
   "mimetype": "text/x-python",
   "name": "python",
   "nbconvert_exporter": "python",
   "pygments_lexer": "ipython3",
   "version": "3.10.0"
  }
 },
 "nbformat": 4,
 "nbformat_minor": 5
}
