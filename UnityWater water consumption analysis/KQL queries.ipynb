{
 "cells": [
  {
   "cell_type": "code",
   "execution_count": 1,
   "id": "77d2b67c",
   "metadata": {},
   "outputs": [],
   "source": [
    "from azure.kusto.data import KustoClient, KustoConnectionStringBuilder\n",
    "import json"
   ]
  },
  {
   "cell_type": "code",
   "execution_count": 3,
   "id": "344b304a",
   "metadata": {},
   "outputs": [],
   "source": [
    "def get_water_usage(objId, cluster, client_id, client_secret, authority_id, monthly = True):\n",
    "    kcsb = KustoConnectionStringBuilder.with_aad_application_key_authentication(cluster, client_id, client_secret, authority_id)\n",
    "    client = KustoClient(kcsb)\n",
    "    db = \"unity-consumption\"\n",
    "    \n",
    "    if monthly:\n",
    "        query = \"consumption | extend Month=format_datetime(['time'],\\\"MM\\\") | summarize TotalConsumed = sum(Value) by ManagedObjectid, Month| where ManagedObjectid ==\"+str(objId)\n",
    "    else:\n",
    "        query = \"consumption | summarize TotalConsumed = sum(Value) by ManagedObjectid, bin(['time'], 7d) | where ManagedObjectid ==\"+str(objId)\n",
    "    \n",
    "    response = client.execute(db, query)\n",
    "    json_result = json.loads(str(response.primary_results[0]))\n",
    "    return json_result['data']"
   ]
  },
  {
   "cell_type": "code",
   "execution_count": null,
   "id": "2bcc8a23",
   "metadata": {},
   "outputs": [],
   "source": []
  }
 ],
 "metadata": {
  "kernelspec": {
   "display_name": "Python 3 (ipykernel)",
   "language": "python",
   "name": "python3"
  },
  "language_info": {
   "codemirror_mode": {
    "name": "ipython",
    "version": 3
   },
   "file_extension": ".py",
   "mimetype": "text/x-python",
   "name": "python",
   "nbconvert_exporter": "python",
   "pygments_lexer": "ipython3",
   "version": "3.10.0"
  }
 },
 "nbformat": 4,
 "nbformat_minor": 5
}
