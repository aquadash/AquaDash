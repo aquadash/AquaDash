{
 "cells": [
  {
   "cell_type": "code",
   "execution_count": 1,
   "id": "77d2b67c",
   "metadata": {},
   "outputs": [],
   "source": [
    "from azure.kusto.data import KustoClient, KustoConnectionStringBuilder\n",
    "import json"
   ]
  },
  {
   "cell_type": "code",
   "execution_count": 6,
   "id": "344b304a",
   "metadata": {},
   "outputs": [],
   "source": [
    "def get_water_usage(objId, cluster, client_id, client_secret, authority_id, monthly = True):\n",
    "    kcsb = KustoConnectionStringBuilder.with_aad_application_key_authentication(cluster, client_id, client_secret, authority_id)\n",
    "    client = KustoClient(kcsb)\n",
    "    db = \"unity-consumption\"\n",
    "    \n",
    "    if monthly:\n",
    "        query = \"consumption | extend Month=format_datetime(['time'],\\\"MM\\\") | summarize TotalConsumed = sum(Value) by ManagedObjectid, typeM, Month| where ManagedObjectid ==\"+str(objId)+\" and (typeM ==\\\"Pulse1\\\" or typeM==\\\"/10266/0\\\")\"\n",
    "    else:\n",
    "        query = \"consumption | summarize TotalConsumed = sum(Value) by ManagedObjectid, typeM, bin(['time'], 7d) | where ManagedObjectid ==\"+str(objId)+\" and (typeM ==\\\"Pulse1\\\" or typeM==\\\"/10266/0\\\")\"\n",
    "    response = client.execute(db, query)\n",
    "    json_result = json.loads(str(response.primary_results[0]))\n",
    "    return json_result['data']"
   ]
  },
  {
   "cell_type": "code",
   "execution_count": 10,
   "id": "2bcc8a23",
   "metadata": {},
   "outputs": [
    {
     "data": {
      "text/plain": [
       "[{'ManagedObjectid': 351,\n",
       "  'typeM': 'Pulse1',\n",
       "  'time': '2022-06-13 00:00:00+00:00',\n",
       "  'TotalConsumed': 2444},\n",
       " {'ManagedObjectid': 351,\n",
       "  'typeM': 'Pulse1',\n",
       "  'time': '2022-06-20 00:00:00+00:00',\n",
       "  'TotalConsumed': 3435},\n",
       " {'ManagedObjectid': 351,\n",
       "  'typeM': 'Pulse1',\n",
       "  'time': '2022-05-30 00:00:00+00:00',\n",
       "  'TotalConsumed': 3442},\n",
       " {'ManagedObjectid': 351,\n",
       "  'typeM': 'Pulse1',\n",
       "  'time': '2022-06-06 00:00:00+00:00',\n",
       "  'TotalConsumed': 3660},\n",
       " {'ManagedObjectid': 351,\n",
       "  'typeM': 'Pulse1',\n",
       "  'time': '2022-05-23 00:00:00+00:00',\n",
       "  'TotalConsumed': 2640},\n",
       " {'ManagedObjectid': 351,\n",
       "  'typeM': 'Pulse1',\n",
       "  'time': '2022-05-02 00:00:00+00:00',\n",
       "  'TotalConsumed': 3665},\n",
       " {'ManagedObjectid': 351,\n",
       "  'typeM': 'Pulse1',\n",
       "  'time': '2022-05-09 00:00:00+00:00',\n",
       "  'TotalConsumed': 3182},\n",
       " {'ManagedObjectid': 351,\n",
       "  'typeM': 'Pulse1',\n",
       "  'time': '2022-05-16 00:00:00+00:00',\n",
       "  'TotalConsumed': 3454},\n",
       " {'ManagedObjectid': 351,\n",
       "  'typeM': 'Pulse1',\n",
       "  'time': '2022-04-25 00:00:00+00:00',\n",
       "  'TotalConsumed': 539},\n",
       " {'ManagedObjectid': 351,\n",
       "  'typeM': 'Pulse1',\n",
       "  'time': '2022-06-27 00:00:00+00:00',\n",
       "  'TotalConsumed': 1657}]"
      ]
     },
     "execution_count": 10,
     "metadata": {},
     "output_type": "execute_result"
    }
   ],
   "source": [
    "get_water_usage(351, cluster, client_id, client_secret, authority_id, monthly = False)"
   ]
  },
  {
   "cell_type": "code",
   "execution_count": null,
   "id": "9d1e66a2",
   "metadata": {},
   "outputs": [],
   "source": []
  }
 ],
 "metadata": {
  "kernelspec": {
   "display_name": "Python 3 (ipykernel)",
   "language": "python",
   "name": "python3"
  },
  "language_info": {
   "codemirror_mode": {
    "name": "ipython",
    "version": 3
   },
   "file_extension": ".py",
   "mimetype": "text/x-python",
   "name": "python",
   "nbconvert_exporter": "python",
   "pygments_lexer": "ipython3",
   "version": "3.10.0"
  }
 },
 "nbformat": 4,
 "nbformat_minor": 5
}
